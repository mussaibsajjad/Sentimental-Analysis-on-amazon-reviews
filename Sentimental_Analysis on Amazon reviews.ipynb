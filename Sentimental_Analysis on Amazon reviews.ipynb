{
 "cells": [
  {
   "cell_type": "code",
   "execution_count": null,
   "id": "43a72a5c",
   "metadata": {},
   "outputs": [],
   "source": [
    "import numpy as np\n",
    "import pandas as pd\n",
    "import nltk\n",
    "from nltk.sentiment.vader import SentimentIntensityAnalyzer\n",
    "import re\n",
    "from textblob import TextBlob\n",
    "from vaderSentiment.vaderSentiment import SentimentIntensityAnalyzer\n",
    "from wordcloud import WordCloud\n",
    "import seaborn as sns\n",
    "import matplotlib.pyplot as plt\n",
    "import cufflinks as cf \n",
    "%matplotlib inline\n",
    "from plotly.offline import init_notebook_mode, iplot\n",
    "init_notebook_mode(connected=True)\n",
    "cf.go_offline();\n",
    "import plotly.graph_objs as go\n",
    "from plotly.subplots import make_subplots\n",
    "\n",
    "import warnings\n",
    "warnings.filterwarnings(\"ignore\")\n",
    "warnings.warn(\"this will not show\")\n",
    "\n",
    "pd.set_option('display.max_columns', None)\n"
   ]
  },
  {
   "cell_type": "code",
   "execution_count": null,
   "id": "dfc98178",
   "metadata": {},
   "outputs": [],
   "source": [
    "df = pd.read_csv(\"amazon.csv\")"
   ]
  },
  {
   "cell_type": "code",
   "execution_count": null,
   "id": "63a79b93",
   "metadata": {},
   "outputs": [],
   "source": [
    "df.head()"
   ]
  },
  {
   "cell_type": "code",
   "execution_count": null,
   "id": "83969d85",
   "metadata": {},
   "outputs": [],
   "source": [
    "df"
   ]
  },
  {
   "cell_type": "code",
   "execution_count": null,
   "id": "081cc006",
   "metadata": {},
   "outputs": [],
   "source": [
    "df = df.sort_values(\"wilson_lower_bound\", ascending = False)\n",
    "# Check if the column 'unnamed: 0' exists in the DataFrame\n",
    "if 'unnamed : 0' in df.columns:\n",
    "    # Drop the column if it exists (with corrected column name)\n",
    "    df.drop('unnamed : 0', inplace=True, axis=1)\n",
    "else:\n",
    "    # Print a message indicating that the column doesn't exist\n",
    "    print(\"Column 'unnamed : 0' not found in the DataFrame\")\n",
    "\n",
    "# Display the first few rows of the modified DataFrame\n",
    "df.head()\n"
   ]
  },
  {
   "cell_type": "code",
   "execution_count": null,
   "id": "ee3047aa",
   "metadata": {},
   "outputs": [],
   "source": [
    "def missing_values_analysis(df):\n",
    "    na_columns_ = [col for col in df.columns if df[col].isnull().sum() > 0]\n",
    "    n_miss = df[na_columns_].isnull().sum().sort_values(ascending=True)\n",
    "    ratio_ = (df[na_columns_].isnull().sum() / df.shape[0]*100).sort_values(ascending=True)\n",
    "    missing_df = pd.concat([n_miss, np.round(ratio_,2)], axis=1, keys=['Missing Values', 'Ratio'])\n",
    "    missing_df =pd.DataFrame(missing_df)\n",
    "    return missing_df\n",
    "\n",
    "def check_dataframe(df, head=5, tail=5):\n",
    "    print(\"SHAPE\".center(82, '~'))\n",
    "    print('Rows: {}'.format(df.shape[0]))\n",
    "    print('Columns: {}'.format(df.shape[1]))\n",
    "    print(\"TYPES\".center(82, '~'))\n",
    "    print(df.dtypes)\n",
    "    print(\"\".center(82, '~'))\n",
    "    print(missing_values_analysis(df))\n",
    "    print('DUPLICATED VALUES'.center(83, '~'))\n",
    "    print(df.duplicated().sum())\n",
    "    print(\"QUANTILES\".center(82, '~'))\n",
    "    \n",
    "    # Filter out non-numeric columns and exclude 'Unnamed: 0'\n",
    "    numeric_columns = df.select_dtypes(include=['number']).columns\n",
    "    numeric_columns = [col for col in numeric_columns if col != 'Unnamed: 0']\n",
    "    print(df[numeric_columns].quantile([0, 0.5, 0.50, 0.95, 0.99, 1]).T)\n",
    "\n",
    "# Assuming df is already defined\n",
    "check_dataframe(df)\n",
    "\n"
   ]
  },
  {
   "cell_type": "code",
   "execution_count": null,
   "id": "c2b6439f",
   "metadata": {},
   "outputs": [],
   "source": [
    "def check_class(dataframe):\n",
    "    # Assuming \"Unnamed\" is not present in the index\n",
    "    if 'Unnamed: 0' in dataframe.columns:\n",
    "        dataframe = dataframe.drop('Unnamed: 0', axis=1)\n",
    "\n",
    "    nunique_df = pd.DataFrame({'Variable': dataframe.columns,\n",
    "                                'Classes': [len(pd.unique(dataframe[i]))\n",
    "                                            for i in dataframe.columns]})\n",
    "    \n",
    "    nunique_df = nunique_df.sort_values('Classes', ascending=False).reset_index(drop=True)\n",
    "    return nunique_df\n",
    "\n",
    "check_class(df)\n",
    "\n"
   ]
  },
  {
   "cell_type": "code",
   "execution_count": null,
   "id": "0e687a2e",
   "metadata": {},
   "outputs": [],
   "source": [
    "constraints = ['#B34D22', '#EBE00C', '#1FEB0C', '#0C92EB', '#EB0CD5']\n",
    "\n",
    "\n",
    "def categorical_variable_summary(df, column_name):\n",
    "    fig = make_subplots(rows=1, cols=2,\n",
    "                       subplot_titles=('Countplot', 'Percentage'),\n",
    "                       specs=[[{\"type\": \"xy\"}, {'type': 'domain'}]])\n",
    "\n",
    "    fig.add_trace(go.Bar(y=df[column_name].value_counts().values.tolist(),\n",
    "                         x=[str(i) for i in df[column_name].value_counts().index],\n",
    "                         text=df[column_name].value_counts().values.tolist(),\n",
    "                         textfont=dict(size=14),\n",
    "                         name=column_name,\n",
    "                         textposition='auto',\n",
    "                         showlegend=False,\n",
    "                         marker=dict(color=constraints, line=dict(color='#DBE6EC', width=1))),\n",
    "                  row=1, col=1)\n",
    "\n",
    "    fig.add_trace(go.Pie(labels=df[column_name].value_counts().keys(),\n",
    "                         values=df[column_name].value_counts().values,\n",
    "                         textfont=dict(size=18),\n",
    "                         textposition='auto',\n",
    "                         showlegend=False,\n",
    "                         name=column_name,\n",
    "                         marker=dict(colors=constraints)),\n",
    "                  row=1, col=2)\n",
    "\n",
    "    fig.update_layout(title={'text': column_name,\n",
    "                             'y': 0.9,\n",
    "                             'x': 0.5,\n",
    "                             'xanchor': 'center',\n",
    "                             'yanchor': 'top'},\n",
    "                      template='plotly_white')\n",
    "\n",
    "    iplot(fig)\n"
   ]
  },
  {
   "cell_type": "code",
   "execution_count": null,
   "id": "4fea6909",
   "metadata": {},
   "outputs": [],
   "source": [
    "categorical_variable_summary(df, 'overall')"
   ]
  },
  {
   "cell_type": "code",
   "execution_count": null,
   "id": "15cf064f",
   "metadata": {},
   "outputs": [],
   "source": [
    "df.reviewText.head()\n"
   ]
  },
  {
   "cell_type": "code",
   "execution_count": null,
   "id": "9ade78ee",
   "metadata": {},
   "outputs": [],
   "source": [
    "review_example = df.reviewText[2031]\n",
    "review_example"
   ]
  },
  {
   "cell_type": "code",
   "execution_count": null,
   "id": "5ca2022f",
   "metadata": {},
   "outputs": [],
   "source": [
    "review_example = re.sub(\"[^a-zA-Z]\",'',review_example)\n",
    "review_example"
   ]
  },
  {
   "cell_type": "code",
   "execution_count": null,
   "id": "b027b8a0",
   "metadata": {},
   "outputs": [],
   "source": [
    "# Assuming review_example contains the text you want to process\n",
    "review_example = df.reviewText[2031]\n",
    "\n",
    "# Split the text into words and convert to lowercase\n",
    "processed_text = review_example.lower().split()\n",
    "\n",
    "# Display the result\n",
    "processed_text\n"
   ]
  },
  {
   "cell_type": "code",
   "execution_count": null,
   "id": "42977d17",
   "metadata": {},
   "outputs": [],
   "source": [
    "rt = lambda x: re.sub(\"[^a-zA-Z]\", ' ', str(x))\n",
    "df[\"reviewText\"] = df[\"reviewText\"].map(rt)\n",
    "df[\"reviewText\"] = df[\"reviewText\"]. str.lower()\n",
    "df.head()"
   ]
  },
  {
   "cell_type": "code",
   "execution_count": null,
   "id": "4513c98e",
   "metadata": {},
   "outputs": [],
   "source": [
    "from vaderSentiment.vaderSentiment import SentimentIntensityAnalyzer\n",
    "\n",
    "# Assuming you have the 'reviewText' column in your DataFrame\n",
    "df[['polarity', 'subjectivity']] = df['reviewText'].apply(lambda Text: pd.Series(TextBlob(Text).sentiment))\n",
    "\n",
    "for index, row in df['reviewText'].items():\n",
    "    score = SentimentIntensityAnalyzer().polarity_scores(row)\n",
    "    \n",
    "    neg = score['neg']\n",
    "    neu = score['neu']\n",
    "    pos = score['pos']\n",
    "    \n",
    "    if neg > pos:\n",
    "        df.loc[index, 'sentiment'] = \"Negative\"\n",
    "    elif pos > neg:\n",
    "        df.loc[index, 'sentiment'] = \"Positive\"\n",
    "    else:\n",
    "        df.loc[index, 'sentiment'] = \"Neutral\"\n",
    "\n",
    "\n"
   ]
  },
  {
   "cell_type": "code",
   "execution_count": null,
   "id": "b07a03fb",
   "metadata": {},
   "outputs": [],
   "source": [
    "df[df['sentiment']=='positive'].sort_values(\"wilson_lower_bound\",\n",
    "                                           ascending= False).head(5)"
   ]
  },
  {
   "cell_type": "code",
   "execution_count": null,
   "id": "b9c8fdd1",
   "metadata": {},
   "outputs": [],
   "source": [
    "categorical_variable_summary(df, 'sentiment')"
   ]
  },
  {
   "cell_type": "code",
   "execution_count": null,
   "id": "0f5a1b22",
   "metadata": {},
   "outputs": [],
   "source": []
  },
  {
   "cell_type": "code",
   "execution_count": null,
   "id": "69de4c02",
   "metadata": {},
   "outputs": [],
   "source": []
  },
  {
   "cell_type": "code",
   "execution_count": null,
   "id": "35139bef",
   "metadata": {},
   "outputs": [],
   "source": []
  },
  {
   "cell_type": "code",
   "execution_count": null,
   "id": "cc32c6c3",
   "metadata": {},
   "outputs": [],
   "source": []
  },
  {
   "cell_type": "code",
   "execution_count": null,
   "id": "4096e3a9",
   "metadata": {},
   "outputs": [],
   "source": []
  },
  {
   "cell_type": "code",
   "execution_count": null,
   "id": "49d0bb1d",
   "metadata": {},
   "outputs": [],
   "source": []
  },
  {
   "cell_type": "code",
   "execution_count": null,
   "id": "26b3f4be",
   "metadata": {},
   "outputs": [],
   "source": [
    "\n"
   ]
  },
  {
   "cell_type": "code",
   "execution_count": null,
   "id": "01afc7bf",
   "metadata": {},
   "outputs": [],
   "source": []
  }
 ],
 "metadata": {
  "kernelspec": {
   "display_name": "Python 3 (ipykernel)",
   "language": "python",
   "name": "python3"
  },
  "language_info": {
   "codemirror_mode": {
    "name": "ipython",
    "version": 3
   },
   "file_extension": ".py",
   "mimetype": "text/x-python",
   "name": "python",
   "nbconvert_exporter": "python",
   "pygments_lexer": "ipython3",
   "version": "3.11.5"
  }
 },
 "nbformat": 4,
 "nbformat_minor": 5
}
